{
 "cells": [
  {
   "cell_type": "code",
   "execution_count": 1,
   "id": "334bfcf7",
   "metadata": {},
   "outputs": [],
   "source": [
    "import glob\n",
    "import pandas as pd\n",
    "import geopy.distance\n",
    "import geopandas as gpd"
   ]
  },
  {
   "cell_type": "code",
   "execution_count": 9,
   "id": "e1978a94",
   "metadata": {},
   "outputs": [
    {
     "data": {
      "text/html": [
       "<div>\n",
       "<style scoped>\n",
       "    .dataframe tbody tr th:only-of-type {\n",
       "        vertical-align: middle;\n",
       "    }\n",
       "\n",
       "    .dataframe tbody tr th {\n",
       "        vertical-align: top;\n",
       "    }\n",
       "\n",
       "    .dataframe thead th {\n",
       "        text-align: right;\n",
       "    }\n",
       "</style>\n",
       "<table border=\"1\" class=\"dataframe\">\n",
       "  <thead>\n",
       "    <tr style=\"text-align: right;\">\n",
       "      <th></th>\n",
       "      <th>보관소(대여소)명</th>\n",
       "      <th>자치구</th>\n",
       "      <th>상세주소</th>\n",
       "      <th>위도</th>\n",
       "      <th>경도</th>\n",
       "      <th>shortest_road</th>\n",
       "      <th>법정동</th>\n",
       "      <th>shortest_subway</th>\n",
       "      <th>shortest_subway_meter</th>\n",
       "      <th>public_place_in_100m</th>\n",
       "      <th>shortest_bus</th>\n",
       "      <th>shortest_bus_meter</th>\n",
       "      <th>public_transport_in_100m</th>\n",
       "      <th>schools_in_100m</th>\n",
       "      <th>unis_in_100m</th>\n",
       "      <th>total_schools_in_100m</th>\n",
       "      <th>public_places_and_schools_in_100m</th>\n",
       "      <th>대여소_ID</th>\n",
       "    </tr>\n",
       "  </thead>\n",
       "  <tbody>\n",
       "    <tr>\n",
       "      <th>0</th>\n",
       "      <td>경복궁역 7번출구 앞</td>\n",
       "      <td>종로구</td>\n",
       "      <td>서울특별시 종로구 사직로 지하130 경복궁역 7번출구 앞</td>\n",
       "      <td>37.575794</td>\n",
       "      <td>126.971451</td>\n",
       "      <td>사직로12길</td>\n",
       "      <td>내자동</td>\n",
       "      <td>경복궁</td>\n",
       "      <td>183.7</td>\n",
       "      <td>0</td>\n",
       "      <td>서울경찰청.경복궁역</td>\n",
       "      <td>6.2</td>\n",
       "      <td>5</td>\n",
       "      <td>0</td>\n",
       "      <td>0</td>\n",
       "      <td>0</td>\n",
       "      <td>0</td>\n",
       "      <td>ST-117</td>\n",
       "    </tr>\n",
       "  </tbody>\n",
       "</table>\n",
       "</div>"
      ],
      "text/plain": [
       "      보관소(대여소)명  자치구                             상세주소         위도          경도  \\\n",
       "0   경복궁역 7번출구 앞  종로구  서울특별시 종로구 사직로 지하130 경복궁역 7번출구 앞  37.575794  126.971451   \n",
       "\n",
       "  shortest_road  법정동 shortest_subway  shortest_subway_meter  \\\n",
       "0        사직로12길  내자동             경복궁                  183.7   \n",
       "\n",
       "   public_place_in_100m shortest_bus  shortest_bus_meter  \\\n",
       "0                     0   서울경찰청.경복궁역                 6.2   \n",
       "\n",
       "   public_transport_in_100m  schools_in_100m  unis_in_100m  \\\n",
       "0                         5                0             0   \n",
       "\n",
       "   total_schools_in_100m  public_places_and_schools_in_100m  대여소_ID  \n",
       "0                      0                                  0  ST-117  "
      ]
     },
     "execution_count": 9,
     "metadata": {},
     "output_type": "execute_result"
    }
   ],
   "source": [
    "ddarung = pd.read_csv('../ddarung_master.csv', encoding = 'cp949')\n",
    "ddarung = ddarung.drop(columns = ['Unnamed: 0'])\n",
    "\n",
    "ddarung = ddarung.drop(columns = ['ID_distance', '주소1', '주소2'])\n",
    "ddarung.head(1)"
   ]
  }
 ],
 "metadata": {
  "kernelspec": {
   "display_name": "Python 3 (ipykernel)",
   "language": "python",
   "name": "python3"
  },
  "language_info": {
   "codemirror_mode": {
    "name": "ipython",
    "version": 3
   },
   "file_extension": ".py",
   "mimetype": "text/x-python",
   "name": "python",
   "nbconvert_exporter": "python",
   "pygments_lexer": "ipython3",
   "version": "3.7.8"
  }
 },
 "nbformat": 4,
 "nbformat_minor": 5
}
